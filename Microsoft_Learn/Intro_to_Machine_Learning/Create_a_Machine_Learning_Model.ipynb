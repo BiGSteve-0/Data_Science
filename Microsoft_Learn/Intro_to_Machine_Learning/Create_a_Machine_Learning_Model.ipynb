{
    "metadata": {
        "kernelspec": {
            "name": "python3",
            "display_name": "Python 3 (ipykernel)",
            "language": "python"
        },
        "language_info": {
            "name": "python",
            "version": "3.10.7",
            "mimetype": "text/x-python",
            "codemirror_mode": {
                "name": "ipython",
                "version": 3
            },
            "pygments_lexer": "ipython3",
            "nbconvert_exporter": "python",
            "file_extension": ".py"
        }
    },
    "nbformat_minor": 2,
    "nbformat": 4,
    "cells": [
        {
            "cell_type": "markdown",
            "source": [
                "# Azure Data Science Training Module 1\n",
                "\n",
                "## Creating your first model"
            ],
            "metadata": {
                "azdata_cell_guid": "249329f8-f28f-47d0-bf69-494b281a5fba",
                "language": ""
            },
            "attachments": {}
        },
        {
            "cell_type": "code",
            "source": [
                "import pandas\r\n",
                "!wget https://raw.githubusercontent.com/MicrosoftDocs/mslearn-introduction-to-machine-learning/main/graphing.py\r\n",
                "!wget https://raw.githubusercontent.com/MicrosoftDocs/mslearn-introduction-to-machine-learning/main/Data/doggy-boot-harness.csv\r\n",
                "!pip install statsmodels\r\n",
                "\r\n",
                "# Make a dictionary of data for boot sizes\r\n",
                "# and harness size in cm\r\n",
                "data = {\r\n",
                "    'boot_size' : [39, 38, 37, 39, 38, 35, 37, 36, 35, 40, \r\n",
                "                    40, 36, 38, 39, 42, 42, 36, 36, 35, 41, \r\n",
                "                    42, 38, 37, 35, 40, 36, 35, 39, 41, 37, \r\n",
                "                    35, 41, 39, 41, 42, 42, 36, 37, 37, 39,\r\n",
                "                    42, 35, 36, 41, 41, 41, 39, 39, 35, 39\r\n",
                "    ],\r\n",
                "    'harness_size' : [ 58, 58, 52, 58, 57, 52, 55, 53, 49, 54,\r\n",
                "                59, 56, 53, 58, 57, 58, 56, 51, 50, 59,\r\n",
                "                59, 59, 55, 50, 55, 52, 53, 54, 61, 56,\r\n",
                "                55, 60, 57, 56, 61, 58, 53, 57, 57, 55,\r\n",
                "                60, 51, 52, 56, 55, 57, 58, 57, 51, 59\r\n",
                "    ]\r\n",
                "}\r\n",
                "\r\n",
                "# Convert it into a table using pandas\r\n",
                "dataset = pandas.DataFrame(data)\r\n",
                "\r\n",
                "# Print the data\r\n",
                "dataset"
            ],
            "metadata": {
                "azdata_cell_guid": "33fcbeea-409a-4a74-a51d-65847eeb0398",
                "tags": [
                    "hide_input"
                ]
            },
            "outputs": [],
            "execution_count": null
        },
        {
            "cell_type": "markdown",
            "source": [
                "Here we are selecting a model. First time using the OLS models."
            ],
            "metadata": {
                "azdata_cell_guid": "b06a41c7-a533-4e38-8bd8-f29ac3c63380"
            },
            "attachments": {}
        },
        {
            "cell_type": "code",
            "source": [
                "# Load the api\r\n",
                "import statsmodels.formula.api as smf\r\n",
                "\r\n",
                "# First, define our formula using  a special syntax\r\n",
                "# This says the boot_size is explained by harness_size\r\n",
                "formula = \"boot_size ~ harness_size\"\r\n",
                "\r\n",
                "# Create the model (not training)\r\n",
                "model = smf.ols(formula = formula, data = dataset)\r\n",
                "\r\n",
                "# Note that we have created our model but it doesn't have internal parameters set yet\r\n",
                "if not hasattr(model, 'params'):\r\n",
                "    print(\"Model selected but it does not have parameters set. We need to train it.\")"
            ],
            "metadata": {
                "azdata_cell_guid": "13d83bff-b9e1-4ea4-85a7-fd97cc930c5a",
                "tags": []
            },
            "outputs": [
                {
                    "name": "stdout",
                    "text": "Model selected but it does not have parameters set. We need to train it.\n",
                    "output_type": "stream"
                }
            ],
            "execution_count": 8
        },
        {
            "cell_type": "markdown",
            "source": [
                "**Training the model below**"
            ],
            "metadata": {
                "azdata_cell_guid": "cccaa8e6-32b5-41c2-ab2f-056d8d6b59e5"
            },
            "attachments": {}
        },
        {
            "cell_type": "code",
            "source": [
                "# Load some libraries, make sure plotly is installed\r\n",
                "import graphing \r\n",
                "\r\n",
                "# train or fit the model\r\n",
                "fitted_model = model.fit()\r\n",
                "\r\n",
                "# Print information about the model\r\n",
                "print(\"The following model parameters have been found:\\n\" + \r\n",
                "        f\"Line slope: {fitted_model.params[1]}\\n\" + \r\n",
                "        f\"Line Intercept: {fitted_model.params[0]}\" )"
            ],
            "metadata": {
                "azdata_cell_guid": "66f84933-b9d1-412b-90de-11dd9fea7121",
                "tags": []
            },
            "outputs": [
                {
                    "name": "stdout",
                    "text": "The following model parameters have been found:\nLine slope: 0.5859254167382717\nLine Intercept: 5.719109812682555\n",
                    "output_type": "stream"
                }
            ],
            "execution_count": 14
        },
        {
            "cell_type": "markdown",
            "source": [
                "Slope and line obtained. Now we will create a graph."
            ],
            "metadata": {
                "azdata_cell_guid": "fff5dc55-dbec-4cfd-b575-66c47f5c4814"
            },
            "attachments": {}
        },
        {
            "cell_type": "code",
            "source": [
                "import graphing\r\n",
                "\r\n",
                "#showing the 2d graph of the result\r\n",
                "graphing.scatter_2D(dataset,    label_x=\"harness_size\",\r\n",
                "                                label_y=\"boot_size\",\r\n",
                "                                trendline=lambda x: fitted_model.params[0] * x + fitted_model.params[0])"
            ],
            "metadata": {
                "azdata_cell_guid": "045d9300-a518-4642-85e3-591b5d60371a",
                "tags": []
            },
            "outputs": [],
            "execution_count": null
        },
        {
            "cell_type": "markdown",
            "source": [
                "Testing the model"
            ],
            "metadata": {
                "azdata_cell_guid": "e2e72aaa-d13a-494f-9ae9-c518660e094f"
            },
            "attachments": {}
        },
        {
            "cell_type": "code",
            "source": [
                "# harness_size states the size of the harness we are interested in\r\n",
                "harness_size = { 'harness_size' : [25] }\r\n",
                "\r\n",
                "# Use the model to predict what size of boots the dog will fit\r\n",
                "approximate_boot_size = fitted_model.predict(harness_size)\r\n",
                "\r\n",
                "# Print the result\r\n",
                "print(\"Estimated approximate_boot_size:\")\r\n",
                "print(approximate_boot_size[0])"
            ],
            "metadata": {
                "azdata_cell_guid": "50e16085-4a96-41dc-9813-e6a62f0da79f"
            },
            "outputs": [
                {
                    "name": "stdout",
                    "text": "Estimated approximate_boot_size:\n20.367245231139346\n",
                    "output_type": "stream"
                }
            ],
            "execution_count": 24
        }
    ]
}