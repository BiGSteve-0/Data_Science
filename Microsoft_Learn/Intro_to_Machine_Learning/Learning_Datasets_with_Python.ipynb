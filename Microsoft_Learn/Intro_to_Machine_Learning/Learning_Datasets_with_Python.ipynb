{
    "metadata": {
        "kernelspec": {
            "name": "python3",
            "display_name": "Python 3 (ipykernel)",
            "language": "python"
        },
        "language_info": {
            "name": "python",
            "version": "3.10.7",
            "mimetype": "text/x-python",
            "codemirror_mode": {
                "name": "ipython",
                "version": 3
            },
            "pygments_lexer": "ipython3",
            "nbconvert_exporter": "python",
            "file_extension": ".py"
        }
    },
    "nbformat_minor": 2,
    "nbformat": 4,
    "cells": [
        {
            "cell_type": "markdown",
            "source": [
                "# Learning Datasets With Python :-)"
            ],
            "metadata": {
                "azdata_cell_guid": "f2c8da99-ba84-4dbd-9ce1-13f525d09530"
            },
            "attachments": {}
        },
        {
            "cell_type": "code",
            "source": [
                "import pandas\r\n",
                "\r\n",
                "!wget https://raw.githubusercontent.com/MicrosoftDocs/mslearn-introduction-to-machine-learning/main/graphing.py\r\n",
                "!wget https://raw.githubusercontent.com/MicrosoftDocs/mslearn-introduction-to-machine-learning/main/Data/doggy-boot-harness.csv\r\n",
                "\r\n",
                "# Read the csc containing the data\r\n",
                "dataset = pandas.read_csv('doggy-boot-harness.csv')\r\n",
                "\r\n",
                "# dataset.head() will print n number of rows because there is a lot of data\r\n",
                "# similarly dataset.tail() will print in number of rows from the bottom\r\n",
                "dataset.head()\r\n",
                ""
            ],
            "metadata": {
                "azdata_cell_guid": "89e7254e-147e-404c-b29d-0da06679aca1"
            },
            "outputs": [
                {
                    "output_type": "stream",
                    "name": "stderr",
                    "text": "--2022-09-15 20:28:44--  https://raw.githubusercontent.com/MicrosoftDocs/mslearn-introduction-to-machine-learning/main/graphing.py\nResolving raw.githubusercontent.com (raw.githubusercontent.com)... 2606:50c0:8002::154, 2606:50c0:8000::154, 2606:50c0:8001::154, ...\nConnecting to raw.githubusercontent.com (raw.githubusercontent.com)|2606:50c0:8002::154|:443... connected.\nHTTP request sent, awaiting response... 200 OK\nLength: 21511 (21K) [text/plain]\nSaving to: 'graphing.py.4'\n\n     0K .......... .......... .                               100% 9.69M=0.002s\n\n2022-09-15 20:28:44 (9.69 MB/s) - 'graphing.py.4' saved [21511/21511]\n\n"
                },
                {
                    "output_type": "stream",
                    "name": "stderr",
                    "text": "--2022-09-15 20:28:44--  https://raw.githubusercontent.com/MicrosoftDocs/mslearn-introduction-to-machine-learning/main/Data/doggy-boot-harness.csv\nResolving raw.githubusercontent.com (raw.githubusercontent.com)... 2606:50c0:8002::154, 2606:50c0:8000::154, 2606:50c0:8001::154, ...\nConnecting to raw.githubusercontent.com (raw.githubusercontent.com)|2606:50c0:8002::154|:443... connected.\nHTTP request sent, awaiting response... 200 OK\nLength: 838 [text/plain]\nSaving to: 'doggy-boot-harness.csv.4'\n\n     0K                                                       100% 61.5M=0s\n\n2022-09-15 20:28:44 (61.5 MB/s) - 'doggy-boot-harness.csv.4' saved [838/838]\n\n"
                },
                {
                    "output_type": "execute_result",
                    "execution_count": 4,
                    "data": {
                        "text/plain": "   boot_size  harness_size     sex  age_years\n0         39            58    male       12.0\n1         38            58    male        9.6\n2         37            52  female        8.6\n3         39            58    male       10.2\n4         38            57    male        7.8",
                        "text/html": "<div>\n<style scoped>\n    .dataframe tbody tr th:only-of-type {\n        vertical-align: middle;\n    }\n\n    .dataframe tbody tr th {\n        vertical-align: top;\n    }\n\n    .dataframe thead th {\n        text-align: right;\n    }\n</style>\n<table border=\"1\" class=\"dataframe\">\n  <thead>\n    <tr style=\"text-align: right;\">\n      <th></th>\n      <th>boot_size</th>\n      <th>harness_size</th>\n      <th>sex</th>\n      <th>age_years</th>\n    </tr>\n  </thead>\n  <tbody>\n    <tr>\n      <th>0</th>\n      <td>39</td>\n      <td>58</td>\n      <td>male</td>\n      <td>12.0</td>\n    </tr>\n    <tr>\n      <th>1</th>\n      <td>38</td>\n      <td>58</td>\n      <td>male</td>\n      <td>9.6</td>\n    </tr>\n    <tr>\n      <th>2</th>\n      <td>37</td>\n      <td>52</td>\n      <td>female</td>\n      <td>8.6</td>\n    </tr>\n    <tr>\n      <th>3</th>\n      <td>39</td>\n      <td>58</td>\n      <td>male</td>\n      <td>10.2</td>\n    </tr>\n    <tr>\n      <th>4</th>\n      <td>38</td>\n      <td>57</td>\n      <td>male</td>\n      <td>7.8</td>\n    </tr>\n  </tbody>\n</table>\n</div>"
                    },
                    "metadata": {}
                }
            ],
            "execution_count": 4
        },
        {
            "cell_type": "markdown",
            "source": [
                "Removing part of the dataset\r\n",
                ""
            ],
            "metadata": {
                "azdata_cell_guid": "8c16b41c-35dd-41d1-846d-520bb52fa272"
            },
            "attachments": {}
        },
        {
            "cell_type": "code",
            "source": [
                "#remove the sex and age(in years) fields\r\n",
                "del dataset[\"sex\"]\r\n",
                "del dataset [\"age_years\"]"
            ],
            "metadata": {
                "azdata_cell_guid": "a862504c-b746-4a4d-8ff3-9d01d12f04ac"
            },
            "outputs": [],
            "execution_count": null
        },
        {
            "cell_type": "markdown",
            "source": [
                ""
            ],
            "metadata": {
                "azdata_cell_guid": "dd82fb38-6af5-46e3-aef3-be2d223db90d"
            }
        },
        {
            "cell_type": "code",
            "source": [
                "# Length of rows in the dataset\r\n",
                "# string interpolation in python is amazing. .net took forever\r\n",
                "print(f\"We have {len(dataset)}\")\r\n",
                "\r\n",
                "# Control flow\r\n",
                "is_small = dataset.harness_size < 55\r\n",
                "print(\"\\nWhether the dog's harness was smaller than size 55:\")\r\n",
                "print(is_small)\r\n",
                "\r\n",
                "data_from_small_dogs = dataset[is_small]\r\n",
                "print(\"\\nData for dogs with harness smaller than size 55:\")\r\n",
                "print(data_from_small_dogs)\r\n",
                ""
            ],
            "metadata": {
                "azdata_cell_guid": "e531ce26-af8d-49f7-b302-22433f4882a4",
                "tags": []
            },
            "outputs": [],
            "execution_count": null
        },
        {
            "cell_type": "markdown",
            "source": [
                ""
            ],
            "metadata": {
                "azdata_cell_guid": "40d96fc4-488d-43b3-83d3-532d0e04297a"
            }
        },
        {
            "cell_type": "code",
            "source": [
                "import plotly.express\r\n",
                "import graphing # this is a custom file you can find in our code on github\r\n",
                "\r\n",
                "# Show a graph of harness size by boot size:\r\n",
                "plotly.express.scatter(data_from_small_dogs, x=\"harness_size\", y=\"boot_size\")\n",
                "\n",
                "# Convert harness sizes from metric to imperial units \n",
                "# and save the result to a new column\n",
                "data_smaller_paws['harness_size_imperial'] = data_from_small_dogs.harness_size / 2.54\n",
                "# Show a graph of harness size in imperial units\n",
                "plotly.express.scatter(data_smaller_paws, x=\"harness_size_imperial\", y=\"boot_size\")"
            ],
            "metadata": {
                "azdata_cell_guid": "4f75773a-d9c0-4ab5-b8dc-a19bad7baa8f",
                "tags": []
            },
            "outputs": [],
            "execution_count": null
        }
    ]
}